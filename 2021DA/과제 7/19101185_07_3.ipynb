{
 "cells": [
  {
   "cell_type": "code",
   "execution_count": 2,
   "metadata": {},
   "outputs": [],
   "source": [
    "#19101185 강동현 데이터분석 Assignment 07 Textbook - Applied\n",
    "#Problem 5\n",
    "\n",
    "#validation set approach를 이용하여 test error of this logistic regression model를 예측한다."
   ]
  },
  {
   "cell_type": "code",
   "execution_count": 3,
   "metadata": {},
   "outputs": [],
   "source": [
    "import numpy as np\n",
    "import pandas as pd\n",
    "import matplotlib.pyplot as plt\n",
    "import statsmodels.api as sm\n",
    "from sklearn.preprocessing import PolynomialFeatures\n",
    "from sklearn.model_selection import train_test_split, KFold, cross_val_score\n",
    "from sklearn.linear_model import LinearRegression, LogisticRegression\n",
    "from sklearn.metrics import confusion_matrix, accuracy_score\n",
    "\n",
    "Default = pd.read_csv('C:\\\\Users\\\\car99\\\\DATA7\\\\Default.csv', index_col=0)"
   ]
  },
  {
   "cell_type": "code",
   "execution_count": 5,
   "metadata": {},
   "outputs": [
    {
     "name": "stdout",
     "output_type": "stream",
     "text": [
      "Optimization terminated successfully.\n",
      "         Current function value: 0.078948\n",
      "         Iterations 10\n",
      "                           Logit Regression Results                           \n",
      "==============================================================================\n",
      "Dep. Variable:                      y   No. Observations:                10000\n",
      "Model:                          Logit   Df Residuals:                     9997\n",
      "Method:                           MLE   Df Model:                            2\n",
      "Date:                Mon, 03 May 2021   Pseudo R-squ.:                  0.4594\n",
      "Time:                        02:04:12   Log-Likelihood:                -789.48\n",
      "converged:                       True   LL-Null:                       -1460.3\n",
      "Covariance Type:            nonrobust   LLR p-value:                4.541e-292\n",
      "==============================================================================\n",
      "                 coef    std err          z      P>|z|      [0.025      0.975]\n",
      "------------------------------------------------------------------------------\n",
      "const        -11.5405      0.435    -26.544      0.000     -12.393     -10.688\n",
      "balance        0.0056      0.000     24.835      0.000       0.005       0.006\n",
      "income      2.081e-05   4.99e-06      4.174      0.000     1.1e-05    3.06e-05\n",
      "==============================================================================\n",
      "\n",
      "Possibly complete quasi-separation: A fraction 0.14 of observations can be\n",
      "perfectly predicted. This might indicate that there is complete\n",
      "quasi-separation. In this case some parameters will not be identified.\n"
     ]
    }
   ],
   "source": [
    "#a번 - income과 balance를 이용하여 logistic regression model을 fit 하여라.\n",
    "\n",
    "x01 = sm.add_constant(Default.iloc[:, 2:5]) \n",
    "y01 = np.where(Default['default']=='No', 0, 1) \n",
    "\n",
    "glm1 = sm.Logit(y01, x01)\n",
    "print(glm1.fit().summary())"
   ]
  },
  {
   "cell_type": "code",
   "execution_count": 6,
   "metadata": {},
   "outputs": [
    {
     "name": "stdout",
     "output_type": "stream",
     "text": [
      "0.030750000000000055\n"
     ]
    }
   ],
   "source": [
    "#b번 - validation set approach을 이용하여 test error를  추정한다.\n",
    "#과정은 다음과 같다.\n",
    "\n",
    "#i - sample을 training set 과 validation set 으로 나눈다.\n",
    "x = pd.DataFrame(Default.iloc[:, 2:5])\n",
    "y = np.array(Default['default'])\n",
    "np.random.seed(1)\n",
    "x_train, x_test, y_train, y_test = train_test_split(x, y, test_size=0.4)\n",
    "\n",
    "#ii - training만 가지고 multiple logistic regression model을 fitting 한다.\n",
    "glm2 = LogisticRegression()\n",
    "\n",
    "#iii - validation set안의 개인의 확률을 확인 하고 0.5를 기준으로 카테고리를 분류한다.\n",
    "glm2.pred = glm2.fit(x_train, y_train).predict(x_test)\n",
    "\n",
    "#iv - validation set error를 계산한다.\n",
    "error1 = 1-accuracy_score(y_test, glm2.pred)\n",
    "print(error1)"
   ]
  },
  {
   "cell_type": "code",
   "execution_count": 7,
   "metadata": {},
   "outputs": [
    {
     "name": "stdout",
     "output_type": "stream",
     "text": [
      "0.03025\n",
      "0.03374999999999995\n",
      "0.03300000000000003\n",
      "3 times result: [0.03025 0.03375 0.033  ]\n"
     ]
    }
   ],
   "source": [
    "#c번 - b번의 과정을 3번 반복하는데 이때, 각기 다른 splits 즉, 이전의 내용과\n",
    "#다른 내용의 training set 과 validation set을 통해 b번의 과정을 3번 반복하는 문제이다.\n",
    "\n",
    "x = pd.DataFrame(Default.iloc[:, 3:5])\n",
    "y = np.array(Default['default'])\n",
    "\n",
    "error2 = np.zeros(3)\n",
    "for i in range(2, 5, 1):\n",
    "    np.random.seed(i)\n",
    "    x_train, x_test, y_train, y_test = train_test_split(x, y, test_size=0.4)\n",
    "    \n",
    "    glm3 = LogisticRegression()\n",
    "    glm3.pred = glm2.fit(x_train, y_train).predict(x_test)\n",
    "    \n",
    "    error3 = 1-accuracy_score(y_test, glm3.pred)\n",
    "    print(error3)\n",
    "    error2[i-2:i-1] = error3\n",
    "\n",
    "print(\"3 times result:\", end=\" \")\n",
    "print(error2)"
   ]
  },
  {
   "cell_type": "code",
   "execution_count": 8,
   "metadata": {},
   "outputs": [
    {
     "name": "stdout",
     "output_type": "stream",
     "text": [
      "0.03325\n"
     ]
    }
   ],
   "source": [
    "#d번 - income, balance, and a dummy variable for student를 사용하여 \n",
    "#logistic regression model의 디폴트 확률을 예측해라. 또한 test error for this model을 validation set approach\n",
    "#를 이용하여 추정하라. 또한 dummy variable for student가 test error rate의 감소를 이끄는지 확인하는 문제이다.\n",
    "\n",
    "#정리하자면 우리는 dummy variable for student을 추가한 후 test error rate를 확인하여 이전에 구한 것들과 비교해\n",
    "#dummy variable for student의 추가가 test error rate의 감소에 영향이 있거나 이끌었는지를 확인하면 된다.\n",
    "#이 과정에서 logistic regression model의 디폴트 확률을 예측하고 또한 test error rate는\n",
    "#validation set approach를 통하여 살펴볼 것이다.\n",
    "\n",
    "Default['student_Yes'] = np.where(Default['student']==\"Yes\",1,0)\n",
    "x = Default[['student_Yes','income','balance']]\n",
    "y = Default['default']\n",
    "\n",
    "np.random.seed(10)\n",
    "x_train, x_test, y_train, y_test = train_test_split(x, y, test_size=0.4)\n",
    "\n",
    "glm4 = LogisticRegression()\n",
    "\n",
    "#iii - validation set안의 개인의 확률을 확인 하고 0.5를 기준으로 카테고리를 분류한다.\n",
    "glm4.pred = glm4.fit(x_train, y_train).predict(x_test)\n",
    "\n",
    "#iv - validation set error를 계산한다.\n",
    "error4 = 1-accuracy_score(y_test, glm4.pred)\n",
    "print(error4)\n",
    "\n",
    "#dummy variable을 추가하였음에도 test error rate에는 큰 변화가 없다. 따라서 dummy variable for student는\n",
    "#test error rate에 큰 영향을 미치지 못하고 있다."
   ]
  },
  {
   "cell_type": "code",
   "execution_count": null,
   "metadata": {},
   "outputs": [],
   "source": []
  }
 ],
 "metadata": {
  "kernelspec": {
   "display_name": "Python 3",
   "language": "python",
   "name": "python3"
  },
  "language_info": {
   "codemirror_mode": {
    "name": "ipython",
    "version": 3
   },
   "file_extension": ".py",
   "mimetype": "text/x-python",
   "name": "python",
   "nbconvert_exporter": "python",
   "pygments_lexer": "ipython3",
   "version": "3.8.5"
  }
 },
 "nbformat": 4,
 "nbformat_minor": 4
}
